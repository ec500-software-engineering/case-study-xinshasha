{
 "cells": [
  {
   "cell_type": "code",
   "execution_count": 1,
   "metadata": {},
   "outputs": [],
   "source": [
    "\n",
    "import torch\n",
    "import torch.nn as nn\n",
    "import torch.optim as optim\n",
    "from torchvision.datasets.mnist import MNIST\n",
    "import torchvision.transforms as transforms\n",
    "from torch.utils.data import DataLoader\n",
    "\n",
    "import torch.nn as nn\n",
    "from collections import OrderedDict\n"
   ]
  },
  {
   "cell_type": "code",
   "execution_count": 2,
   "metadata": {},
   "outputs": [],
   "source": [
    "\n",
    "class LeNet5(nn.Module):\n",
    "    def __init__(self):\n",
    "        super(LeNet5, self).__init__()\n",
    "\n",
    "        self.convnet = nn.Sequential(OrderedDict([\n",
    "            ('c1', nn.Conv2d(1, 6, kernel_size=(5, 5))),\n",
    "            ('relu1', nn.ReLU()),\n",
    "            ('s2', nn.MaxPool2d(kernel_size=(2, 2), stride=2)),\n",
    "            ('c3', nn.Conv2d(6, 16, kernel_size=(5, 5))),\n",
    "            ('relu3', nn.ReLU()),\n",
    "            ('s4', nn.MaxPool2d(kernel_size=(2, 2), stride=2)),\n",
    "            ('c5', nn.Conv2d(16, 120, kernel_size=(5, 5))),\n",
    "            ('relu5', nn.ReLU())\n",
    "        ]))\n",
    "        \n",
    "        self.fc = nn.Sequential(OrderedDict([\n",
    "            ('f6', nn.Linear(120, 84)),\n",
    "            ('relu6', nn.ReLU()),\n",
    "            ('f7', nn.Linear(84, 10)),\n",
    "            ('sig7', nn.LogSoftmax(dim=-1))\n",
    "        ]))\n",
    "\n",
    "    def forward(self, img):\n",
    "        output = self.convnet(img)\n",
    "        output = output.view(img.size(0), -1)\n",
    "        output = self.fc(output)\n",
    "        return output"
   ]
  },
  {
   "cell_type": "code",
   "execution_count": 3,
   "metadata": {},
   "outputs": [
    {
     "data": {
      "text/plain": [
       "LeNet5(\n",
       "  (convnet): Sequential(\n",
       "    (c1): Conv2d(1, 6, kernel_size=(5, 5), stride=(1, 1))\n",
       "    (relu1): ReLU()\n",
       "    (s2): MaxPool2d(kernel_size=(2, 2), stride=2, padding=0, dilation=1, ceil_mode=False)\n",
       "    (c3): Conv2d(6, 16, kernel_size=(5, 5), stride=(1, 1))\n",
       "    (relu3): ReLU()\n",
       "    (s4): MaxPool2d(kernel_size=(2, 2), stride=2, padding=0, dilation=1, ceil_mode=False)\n",
       "    (c5): Conv2d(16, 120, kernel_size=(5, 5), stride=(1, 1))\n",
       "    (relu5): ReLU()\n",
       "  )\n",
       "  (fc): Sequential(\n",
       "    (f6): Linear(in_features=120, out_features=84, bias=True)\n",
       "    (relu6): ReLU()\n",
       "    (f7): Linear(in_features=84, out_features=10, bias=True)\n",
       "    (sig7): LogSoftmax()\n",
       "  )\n",
       ")"
      ]
     },
     "execution_count": 3,
     "metadata": {},
     "output_type": "execute_result"
    }
   ],
   "source": [
    "net = LeNet5()\n",
    "net.cuda()"
   ]
  },
  {
   "cell_type": "code",
   "execution_count": 4,
   "metadata": {},
   "outputs": [
    {
     "data": {
      "text/plain": [
       "OrderedDict([('c1', Conv2d(1, 6, kernel_size=(5, 5), stride=(1, 1))),\n",
       "             ('relu1', ReLU()),\n",
       "             ('s2',\n",
       "              MaxPool2d(kernel_size=(2, 2), stride=2, padding=0, dilation=1, ceil_mode=False)),\n",
       "             ('c3', Conv2d(6, 16, kernel_size=(5, 5), stride=(1, 1))),\n",
       "             ('relu3', ReLU()),\n",
       "             ('s4',\n",
       "              MaxPool2d(kernel_size=(2, 2), stride=2, padding=0, dilation=1, ceil_mode=False)),\n",
       "             ('c5', Conv2d(16, 120, kernel_size=(5, 5), stride=(1, 1))),\n",
       "             ('relu5', ReLU())])"
      ]
     },
     "execution_count": 4,
     "metadata": {},
     "output_type": "execute_result"
    }
   ],
   "source": [
    "net.convnet._modules"
   ]
  },
  {
   "cell_type": "code",
   "execution_count": 5,
   "metadata": {},
   "outputs": [],
   "source": [
    "\n",
    "data_train = MNIST('./data/mnist',\n",
    "                   download=True,\n",
    "                   transform=transforms.Compose([\n",
    "                       transforms.Resize((32, 32)),\n",
    "                       transforms.ToTensor()]))\n",
    "data_test = MNIST('./data/mnist',\n",
    "                  train=False,\n",
    "                  download=True,\n",
    "                  transform=transforms.Compose([\n",
    "                      transforms.Resize((32, 32)),\n",
    "                      transforms.ToTensor()]))\n",
    "data_train_loader = DataLoader(data_train, batch_size=256, shuffle=True, num_workers=8)\n",
    "data_test_loader = DataLoader(data_test, batch_size=1024, num_workers=8)"
   ]
  },
  {
   "cell_type": "code",
   "execution_count": 17,
   "metadata": {},
   "outputs": [],
   "source": [
    "\n",
    "criterion = nn.NLLLoss()\n",
    "criterion.cuda()\n",
    "optimizer = optim.Adam(net.parameters(), lr=2e-3)\n",
    "\n",
    "def train(epoch):\n",
    "    global cur_batch_win\n",
    "    net.train()\n",
    "    loss_list, batch_list = [], []\n",
    "    for i, (images, labels) in enumerate(data_train_loader):\n",
    "        optimizer.zero_grad()\n",
    "        images, labels = images.cuda(),labels.cuda()        #move data to cuda\n",
    "        output = net(images)\n",
    "\n",
    "        loss = criterion(output, labels)\n",
    "\n",
    "        loss_list.append(loss.detach().cpu().item())\n",
    "        batch_list.append(i+1)\n",
    "\n",
    "        if i % 100 == 0:\n",
    "            print('Train - Epoch %d, Batch: %d, Loss: %f' % (epoch, i, loss.detach().cpu().item()))\n",
    "        loss.backward()\n",
    "        optimizer.step()\n",
    "\n",
    "\n",
    "def test():\n",
    "    net.eval()\n",
    "    total_correct = 0\n",
    "    avg_loss = 0.0\n",
    "    for i, (images, labels) in enumerate(data_test_loader):\n",
    "        images, labels = images.cuda(),labels.cuda()   #move data to cuda\n",
    "        output = net(images)\n",
    "        avg_loss += criterion(output, labels).sum()\n",
    "        pred = output.detach().max(1)[1]\n",
    "        total_correct += pred.eq(labels.view_as(pred)).sum()\n",
    "\n",
    "    avg_loss /= len(data_test)\n",
    "    print('Test Avg. Loss: %f, Accuracy: %f' % (avg_loss.detach().cpu().item(), float(total_correct) / len(data_test)))\n",
    "\n",
    "\n",
    "def train_and_test(epoch):\n",
    "    train(epoch)\n",
    "    test()\n",
    "\n",
    "\n",
    "def main():\n",
    "    for e in range(1, 10):\n",
    "        train_and_test(e)"
   ]
  },
  {
   "cell_type": "code",
   "execution_count": 18,
   "metadata": {},
   "outputs": [
    {
     "name": "stdout",
     "output_type": "stream",
     "text": [
      "Train - Epoch 1, Batch: 0, Loss: 0.002769\n",
      "Train - Epoch 1, Batch: 100, Loss: 0.003421\n",
      "Train - Epoch 1, Batch: 200, Loss: 0.000152\n",
      "Test Avg. Loss: 0.000070, Accuracy: 0.986800\n",
      "Train - Epoch 2, Batch: 0, Loss: 0.001530\n",
      "Train - Epoch 2, Batch: 100, Loss: 0.000784\n",
      "Train - Epoch 2, Batch: 200, Loss: 0.011465\n",
      "Test Avg. Loss: 0.000073, Accuracy: 0.985700\n",
      "Train - Epoch 3, Batch: 0, Loss: 0.009400\n",
      "Train - Epoch 3, Batch: 100, Loss: 0.008616\n",
      "Train - Epoch 3, Batch: 200, Loss: 0.004830\n",
      "Test Avg. Loss: 0.000074, Accuracy: 0.986500\n",
      "Train - Epoch 4, Batch: 0, Loss: 0.033089\n",
      "Train - Epoch 4, Batch: 100, Loss: 0.000594\n",
      "Train - Epoch 4, Batch: 200, Loss: 0.001101\n",
      "Test Avg. Loss: 0.000067, Accuracy: 0.987900\n",
      "Train - Epoch 5, Batch: 0, Loss: 0.007269\n",
      "Train - Epoch 5, Batch: 100, Loss: 0.000742\n",
      "Train - Epoch 5, Batch: 200, Loss: 0.003261\n",
      "Test Avg. Loss: 0.000074, Accuracy: 0.987100\n",
      "Train - Epoch 6, Batch: 0, Loss: 0.000220\n",
      "Train - Epoch 6, Batch: 100, Loss: 0.010782\n",
      "Train - Epoch 6, Batch: 200, Loss: 0.000079\n",
      "Test Avg. Loss: 0.000055, Accuracy: 0.988800\n",
      "Train - Epoch 7, Batch: 0, Loss: 0.000366\n",
      "Train - Epoch 7, Batch: 100, Loss: 0.000315\n",
      "Train - Epoch 7, Batch: 200, Loss: 0.024164\n",
      "Test Avg. Loss: 0.000063, Accuracy: 0.987900\n",
      "Train - Epoch 8, Batch: 0, Loss: 0.007437\n",
      "Train - Epoch 8, Batch: 100, Loss: 0.018656\n",
      "Train - Epoch 8, Batch: 200, Loss: 0.000650\n",
      "Test Avg. Loss: 0.000061, Accuracy: 0.988400\n",
      "Train - Epoch 9, Batch: 0, Loss: 0.000997\n",
      "Train - Epoch 9, Batch: 100, Loss: 0.000128\n",
      "Train - Epoch 9, Batch: 200, Loss: 0.025600\n",
      "Test Avg. Loss: 0.000068, Accuracy: 0.986800\n"
     ]
    }
   ],
   "source": [
    "main()"
   ]
  },
  {
   "cell_type": "code",
   "execution_count": null,
   "metadata": {},
   "outputs": [],
   "source": []
  }
 ],
 "metadata": {
  "kernelspec": {
   "display_name": "Python 3",
   "language": "python",
   "name": "python3"
  },
  "language_info": {
   "codemirror_mode": {
    "name": "ipython",
    "version": 3
   },
   "file_extension": ".py",
   "mimetype": "text/x-python",
   "name": "python",
   "nbconvert_exporter": "python",
   "pygments_lexer": "ipython3",
   "version": "3.7.2"
  }
 },
 "nbformat": 4,
 "nbformat_minor": 2
}
